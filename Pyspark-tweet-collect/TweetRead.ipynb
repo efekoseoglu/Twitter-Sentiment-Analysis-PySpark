{
 "cells": [
  {
   "cell_type": "code",
   "execution_count": null,
   "id": "57acf5c4-42eb-4ba1-ae91-172936eb12e7",
   "metadata": {},
   "outputs": [],
   "source": []
  },
  {
   "cell_type": "code",
   "execution_count": 1,
   "id": "859fd339-2ff9-4cb0-8f14-851938d501cd",
   "metadata": {},
   "outputs": [],
   "source": [
    "import findspark "
   ]
  },
  {
   "cell_type": "code",
   "execution_count": 2,
   "id": "3ec25461-899c-417d-87c2-bd9da8927486",
   "metadata": {},
   "outputs": [],
   "source": [
    "findspark.init(\"/home/efe/spark-3.5.0-bin-hadoop3\")"
   ]
  },
  {
   "cell_type": "code",
   "execution_count": 3,
   "id": "7f0b5458-37eb-4093-a76e-eb904aa96062",
   "metadata": {},
   "outputs": [],
   "source": [
    "from pyspark import SparkContext\n",
    "from pyspark.streaming import StreamingContext\n",
    "from pyspark.sql import SQLContext\n",
    "from pyspark.sql.functions import desc\n"
   ]
  },
  {
   "cell_type": "code",
   "execution_count": 4,
   "id": "11f4fe22-190c-4f18-8f19-dc6a0c8c9ae9",
   "metadata": {},
   "outputs": [
    {
     "name": "stderr",
     "output_type": "stream",
     "text": [
      "Setting default log level to \"WARN\".\n",
      "To adjust logging level use sc.setLogLevel(newLevel). For SparkR, use setLogLevel(newLevel).\n",
      "24/04/28 20:48:56 WARN NativeCodeLoader: Unable to load native-hadoop library for your platform... using builtin-java classes where applicable\n"
     ]
    }
   ],
   "source": [
    "sc = SparkContext()"
   ]
  },
  {
   "cell_type": "code",
   "execution_count": 5,
   "id": "99dd6b8f-c77e-44ac-ae76-92d9ef475459",
   "metadata": {},
   "outputs": [
    {
     "name": "stderr",
     "output_type": "stream",
     "text": [
      "/home/efe/spark-3.5.0-bin-hadoop3/python/pyspark/streaming/context.py:72: FutureWarning: DStream is deprecated as of Spark 3.4.0. Migrate to Structured Streaming.\n",
      "  warnings.warn(\n",
      "/home/efe/spark-3.5.0-bin-hadoop3/python/pyspark/sql/context.py:113: FutureWarning: Deprecated in 3.0.0. Use SparkSession.builder.getOrCreate() instead.\n",
      "  warnings.warn(\n"
     ]
    }
   ],
   "source": [
    "ssc = StreamingContext(sc,10)\n",
    "sqlContext = SQLContext(sc)# for query later"
   ]
  },
  {
   "cell_type": "code",
   "execution_count": 6,
   "id": "14619bbf-db8e-4896-8b6c-3d33ad0893f5",
   "metadata": {},
   "outputs": [],
   "source": [
    "socket_stream = ssc.socketTextStream(\"127.0.0.1\", 5555)"
   ]
  },
  {
   "cell_type": "code",
   "execution_count": 7,
   "id": "0e484108-cb81-48aa-b7b6-17c4f430bb9b",
   "metadata": {},
   "outputs": [],
   "source": [
    "lines = socket_stream.window(20)"
   ]
  },
  {
   "cell_type": "code",
   "execution_count": 8,
   "id": "7ec16ae4-eaf5-4403-8f12-ab85138982a5",
   "metadata": {},
   "outputs": [],
   "source": [
    "from collections import namedtuple# tuple where each element actually is assigned a name, so it has fields\n",
    "fields = (\"tag\",\"count\")#main idea is count the actual hashtags in the tweets\n",
    "Tweet = namedtuple(\"Tweet\",fields)# so every window we get, we're going to take a hashtag of the tweets themselves"
   ]
  },
  {
   "cell_type": "code",
   "execution_count": 9,
   "id": "e727cfab-aa52-4f80-851a-6ea107412f07",
   "metadata": {},
   "outputs": [],
   "source": [
    "lines.flatMap(lambda text: text.split(\" \") ) \\\n",
    ".filter(lambda word: word.lower().startswith(\"#\") )\\\n",
    ".map(lambda word: (word.lower(),1) )\\\n",
    ".reduceByKey(lambda a,b: a+b)\\\n",
    ".map( lambda rec: Tweet(rec[0],rec[1]) )\\\n",
    ".foreachRDD(lambda rdd: rdd.toDF().sort(desc(\"count\"))\\\n",
    ".limit(10).registerTempTable(\"tweets\"))"
   ]
  },
  {
   "cell_type": "code",
   "execution_count": 10,
   "id": "e89e60af-ec3e-4442-b73d-535000f81c29",
   "metadata": {},
   "outputs": [
    {
     "name": "stderr",
     "output_type": "stream",
     "text": [
      "[Stage 0:>                  (0 + 1) / 1][Stage 2:>                  (0 + 0) / 1]\r"
     ]
    }
   ],
   "source": [
    "ssc.start()"
   ]
  },
  {
   "cell_type": "code",
   "execution_count": null,
   "id": "15ecb668-0a1d-4f66-873b-1864f7cbd947",
   "metadata": {},
   "outputs": [],
   "source": []
  },
  {
   "cell_type": "code",
   "execution_count": null,
   "id": "e7e727f3-13df-483f-97aa-d007ff6ca017",
   "metadata": {},
   "outputs": [],
   "source": []
  },
  {
   "cell_type": "code",
   "execution_count": null,
   "id": "d7bd8725-e060-4b84-b032-744d57e2a73e",
   "metadata": {},
   "outputs": [],
   "source": []
  },
  {
   "cell_type": "code",
   "execution_count": null,
   "id": "c60956ec-43ee-4dcf-933c-01b1d507d797",
   "metadata": {},
   "outputs": [],
   "source": []
  }
 ],
 "metadata": {
  "kernelspec": {
   "display_name": "Python 3 (ipykernel)",
   "language": "python",
   "name": "python3"
  },
  "language_info": {
   "codemirror_mode": {
    "name": "ipython",
    "version": 3
   },
   "file_extension": ".py",
   "mimetype": "text/x-python",
   "name": "python",
   "nbconvert_exporter": "python",
   "pygments_lexer": "ipython3",
   "version": "3.10.12"
  }
 },
 "nbformat": 4,
 "nbformat_minor": 5
}
